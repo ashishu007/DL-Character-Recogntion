{
 "cells": [
  {
   "cell_type": "code",
   "execution_count": 22,
   "metadata": {},
   "outputs": [],
   "source": [
    "import cv2\n",
    "import numpy as np\n",
    "import os\n",
    "from random import shuffle\n",
    "from tqdm import tqdm\n",
    "from preprocess import *\n",
    "\n",
    "TRAIN_DIR = '/home/user/Documents/Devnagari/Train'\n",
    "TEST_DIR = '/home/user/Documents/Devnagari/Test'\n",
    "IMG_SIZE = 50\n",
    "LR = 1e-3\n",
    "\n",
    "num_classes = len(os.listdir(\"./Train\"))"
   ]
  },
  {
   "cell_type": "code",
   "execution_count": 31,
   "metadata": {
    "scrolled": true
   },
   "outputs": [
    {
     "data": {
      "text/plain": [
       "array([[1., 0., 0., ..., 0., 0., 0.],\n",
       "       [0., 1., 0., ..., 0., 0., 0.],\n",
       "       [0., 0., 1., ..., 0., 0., 0.],\n",
       "       ...,\n",
       "       [0., 0., 0., ..., 1., 0., 0.],\n",
       "       [0., 0., 0., ..., 0., 1., 0.],\n",
       "       [0., 0., 0., ..., 0., 0., 1.]], dtype=float32)"
      ]
     },
     "execution_count": 31,
     "metadata": {},
     "output_type": "execute_result"
    }
   ],
   "source": [
    "l = os.listdir(\"./Train\")\n",
    "l_i = np.arange(0, len(labels))\n",
    "to_categorical(l_i)"
   ]
  },
  {
   "cell_type": "code",
   "execution_count": 24,
   "metadata": {
    "scrolled": true
   },
   "outputs": [],
   "source": [
    "# save_data_to_array(IMG_SIZE)"
   ]
  },
  {
   "cell_type": "code",
   "execution_count": 4,
   "metadata": {},
   "outputs": [],
   "source": [
    "# # Loading train set and test set\n",
    "X_train, X_test, y_train, y_test = get_train_test()\n",
    "\n",
    "X = X_train.reshape(X_train.shape[0], IMG_SIZE, IMG_SIZE, 1)\n",
    "validate_x = X_test.reshape(X_test.shape[0], IMG_SIZE, IMG_SIZE, 1)\n",
    "\n",
    "\n",
    "Y = to_categorical(y_train)\n",
    "validate_y = to_categorical(y_test)"
   ]
  },
  {
   "cell_type": "code",
   "execution_count": 5,
   "metadata": {},
   "outputs": [
    {
     "data": {
      "text/plain": [
       "(46920, 50, 50, 1)"
      ]
     },
     "execution_count": 5,
     "metadata": {},
     "output_type": "execute_result"
    }
   ],
   "source": [
    "X.shape"
   ]
  },
  {
   "cell_type": "code",
   "execution_count": 6,
   "metadata": {},
   "outputs": [],
   "source": [
    "import keras\n",
    "import matplotlib.pyplot as plt\n",
    "import numpy\n",
    "from keras.models import Sequential\n",
    "from keras.layers import Dense, Dropout, Flatten, Conv2D, MaxPooling2D, Activation\n",
    "from keras.utils import to_categorical\n",
    "from keras.optimizers import SGD\n",
    "from keras.layers import SimpleRNN\n",
    "from keras import initializers\n",
    "from keras.optimizers import RMSprop\n",
    "from keras.models import load_model\n",
    "from keras import regularizers"
   ]
  },
  {
   "cell_type": "code",
   "execution_count": 16,
   "metadata": {},
   "outputs": [],
   "source": [
    "def get_model():\n",
    "    model = Sequential()\n",
    "    model.add(Conv2D(32, kernel_size=(3, 3), activation='relu', input_shape=(IMG_SIZE, IMG_SIZE, 1)))\n",
    "    model.add(Conv2D(64, kernel_size=(3, 3), activation='relu'))\n",
    "    model.add(Conv2D(128, kernel_size=(3, 3), activation='relu'))\n",
    "    model.add(MaxPooling2D(pool_size=(3, 3)))\n",
    "    model.add(Dropout(0.4))\n",
    "    model.add(Flatten())\n",
    "    model.add(Dense(128, activation='relu', kernel_regularizer = regularizers.l2(0.01)))\n",
    "    model.add(Dropout(0.25))\n",
    "    model.add(Dense(num_classes, activation='softmax'))\n",
    "    model.compile(loss=keras.losses.categorical_crossentropy,\n",
    "                  optimizer=keras.optimizers.Adadelta(),\n",
    "                  metrics=['accuracy'])\n",
    "    print(model.summary())\n",
    "    return model\n",
    "\n",
    "\n",
    "# def get_model():\n",
    "#     model = Sequential()\n",
    "#     model.add(Conv2D(64, kernel_size=(3, 3), activation='relu', input_shape=(IMG_SIZE, IMG_SIZE, 1)))\n",
    "#     model.add(Conv2D(64, kernel_size=(3, 3), activation='relu'))\n",
    "#     model.add(Conv2D(64, kernel_size=(3, 3), activation='relu'))\n",
    "#     model.add(MaxPooling2D(pool_size=(1, 1)))\n",
    "#     model.add(Dropout(0.5))\n",
    "#     model.add(Conv2D(128, kernel_size=(3, 3), activation='relu'))\n",
    "#     model.add(Conv2D(128, kernel_size=(3, 3), activation='relu'))\n",
    "#     model.add(MaxPooling2D(pool_size=(1, 1)))\n",
    "#     model.add(Dropout(0.5))\n",
    "#     model.add(Conv2D(256, kernel_size=(3, 3), activation='relu'))\n",
    "#     model.add(MaxPooling2D(pool_size=(1, 1)))\n",
    "#     model.add(Dropout(0.5))\n",
    "#     model.add(Flatten())\n",
    "#     model.add(Dense(128, activation='relu', kernel_regularizer = regularizers.l2(0.01)))\n",
    "#     model.add(Dropout(0.5))\n",
    "#     model.add(Dense(num_classes, activation='softmax'))\n",
    "#     model.compile(loss=keras.losses.categorical_crossentropy,\n",
    "#                   optimizer=keras.optimizers.Adadelta(),\n",
    "#                   metrics=['accuracy'])\n",
    "#     print(model.summary())\n",
    "#     return model"
   ]
  },
  {
   "cell_type": "code",
   "execution_count": 18,
   "metadata": {
    "scrolled": true
   },
   "outputs": [
    {
     "name": "stdout",
     "output_type": "stream",
     "text": [
      "_________________________________________________________________\n",
      "Layer (type)                 Output Shape              Param #   \n",
      "=================================================================\n",
      "conv2d_17 (Conv2D)           (None, 48, 48, 64)        640       \n",
      "_________________________________________________________________\n",
      "conv2d_18 (Conv2D)           (None, 46, 46, 64)        36928     \n",
      "_________________________________________________________________\n",
      "conv2d_19 (Conv2D)           (None, 44, 44, 64)        36928     \n",
      "_________________________________________________________________\n",
      "max_pooling2d_8 (MaxPooling2 (None, 44, 44, 64)        0         \n",
      "_________________________________________________________________\n",
      "dropout_11 (Dropout)         (None, 44, 44, 64)        0         \n",
      "_________________________________________________________________\n",
      "conv2d_20 (Conv2D)           (None, 42, 42, 128)       73856     \n",
      "_________________________________________________________________\n",
      "conv2d_21 (Conv2D)           (None, 40, 40, 128)       147584    \n",
      "_________________________________________________________________\n",
      "max_pooling2d_9 (MaxPooling2 (None, 40, 40, 128)       0         \n",
      "_________________________________________________________________\n",
      "dropout_12 (Dropout)         (None, 40, 40, 128)       0         \n",
      "_________________________________________________________________\n",
      "conv2d_22 (Conv2D)           (None, 38, 38, 256)       295168    \n",
      "_________________________________________________________________\n",
      "max_pooling2d_10 (MaxPooling (None, 38, 38, 256)       0         \n",
      "_________________________________________________________________\n",
      "dropout_13 (Dropout)         (None, 38, 38, 256)       0         \n",
      "_________________________________________________________________\n",
      "flatten_4 (Flatten)          (None, 369664)            0         \n",
      "_________________________________________________________________\n",
      "dense_7 (Dense)              (None, 128)               47317120  \n",
      "_________________________________________________________________\n",
      "dropout_14 (Dropout)         (None, 128)               0         \n",
      "_________________________________________________________________\n",
      "dense_8 (Dense)              (None, 46)                5934      \n",
      "=================================================================\n",
      "Total params: 47,914,158\n",
      "Trainable params: 47,914,158\n",
      "Non-trainable params: 0\n",
      "_________________________________________________________________\n",
      "None\n",
      "Train on 46920 samples, validate on 31280 samples\n",
      "Epoch 1/100\n",
      "46920/46920 [==============================] - 99s 2ms/step - loss: 7.2872 - acc: 0.1153 - val_loss: 1.6261 - val_acc: 0.6646\n",
      "Epoch 2/100\n",
      "46920/46920 [==============================] - 90s 2ms/step - loss: 2.1645 - acc: 0.4518 - val_loss: 1.0103 - val_acc: 0.8441\n",
      "Epoch 3/100\n",
      "46920/46920 [==============================] - 92s 2ms/step - loss: 1.8353 - acc: 0.5335 - val_loss: 0.9181 - val_acc: 0.8727\n",
      "Epoch 4/100\n",
      "46920/46920 [==============================] - 93s 2ms/step - loss: 1.7087 - acc: 0.5619 - val_loss: 0.8790 - val_acc: 0.8567\n",
      "Epoch 5/100\n",
      "46920/46920 [==============================] - 93s 2ms/step - loss: 1.6315 - acc: 0.5836 - val_loss: 0.7664 - val_acc: 0.8969\n",
      "Epoch 6/100\n",
      "46920/46920 [==============================] - 93s 2ms/step - loss: 1.5821 - acc: 0.5980 - val_loss: 0.7653 - val_acc: 0.8908\n",
      "Epoch 7/100\n",
      "46920/46920 [==============================] - 93s 2ms/step - loss: 1.5424 - acc: 0.6105 - val_loss: 0.7164 - val_acc: 0.8910\n",
      "Epoch 8/100\n",
      "46920/46920 [==============================] - 93s 2ms/step - loss: 1.5158 - acc: 0.6185 - val_loss: 0.6753 - val_acc: 0.9077\n",
      "Epoch 9/100\n",
      "46920/46920 [==============================] - 93s 2ms/step - loss: 1.4909 - acc: 0.6251 - val_loss: 0.6395 - val_acc: 0.9188\n",
      "Epoch 10/100\n",
      "46920/46920 [==============================] - 93s 2ms/step - loss: 1.4707 - acc: 0.6304 - val_loss: 0.7019 - val_acc: 0.9027\n",
      "Epoch 11/100\n",
      "46920/46920 [==============================] - 93s 2ms/step - loss: 1.4498 - acc: 0.6394 - val_loss: 0.6681 - val_acc: 0.9170\n",
      "Epoch 12/100\n",
      "46920/46920 [==============================] - 93s 2ms/step - loss: 1.4356 - acc: 0.6428 - val_loss: 0.6660 - val_acc: 0.9170\n",
      "Epoch 13/100\n",
      "46920/46920 [==============================] - 93s 2ms/step - loss: 1.4329 - acc: 0.6414 - val_loss: 0.6171 - val_acc: 0.9189\n",
      "Epoch 14/100\n",
      "46920/46920 [==============================] - 92s 2ms/step - loss: 1.4220 - acc: 0.6464 - val_loss: 0.7430 - val_acc: 0.8916\n",
      "Epoch 15/100\n",
      "46920/46920 [==============================] - 93s 2ms/step - loss: 1.4048 - acc: 0.6499 - val_loss: 0.6913 - val_acc: 0.9131\n",
      "Epoch 16/100\n",
      "46920/46920 [==============================] - 93s 2ms/step - loss: 1.3874 - acc: 0.6549 - val_loss: 0.6676 - val_acc: 0.9074\n",
      "Epoch 17/100\n",
      "46920/46920 [==============================] - 93s 2ms/step - loss: 1.3891 - acc: 0.6575 - val_loss: 0.6351 - val_acc: 0.9182\n",
      "Epoch 18/100\n",
      "46920/46920 [==============================] - 92s 2ms/step - loss: 1.3701 - acc: 0.6605 - val_loss: 0.6142 - val_acc: 0.9230\n",
      "Epoch 19/100\n",
      "46920/46920 [==============================] - 92s 2ms/step - loss: 1.3606 - acc: 0.6678 - val_loss: 0.6545 - val_acc: 0.9109\n",
      "Epoch 20/100\n",
      "46920/46920 [==============================] - 93s 2ms/step - loss: 1.3517 - acc: 0.6679 - val_loss: 0.6579 - val_acc: 0.9178\n",
      "Epoch 21/100\n",
      "46920/46920 [==============================] - 92s 2ms/step - loss: 1.3464 - acc: 0.6708 - val_loss: 0.5955 - val_acc: 0.9298\n",
      "Epoch 22/100\n",
      "46920/46920 [==============================] - 93s 2ms/step - loss: 1.3362 - acc: 0.6739 - val_loss: 0.5882 - val_acc: 0.9277\n",
      "Epoch 23/100\n",
      "46920/46920 [==============================] - 92s 2ms/step - loss: 1.3257 - acc: 0.6760 - val_loss: 0.6816 - val_acc: 0.9066\n",
      "Epoch 24/100\n",
      "46920/46920 [==============================] - 93s 2ms/step - loss: 1.3146 - acc: 0.6796 - val_loss: 0.6842 - val_acc: 0.8997\n",
      "Epoch 25/100\n",
      "46920/46920 [==============================] - 93s 2ms/step - loss: 1.3123 - acc: 0.6814 - val_loss: 0.9750 - val_acc: 0.8511\n",
      "Epoch 26/100\n",
      "46920/46920 [==============================] - 93s 2ms/step - loss: 1.3017 - acc: 0.6812 - val_loss: 0.5754 - val_acc: 0.9303\n",
      "Epoch 27/100\n",
      "46920/46920 [==============================] - 93s 2ms/step - loss: 1.2961 - acc: 0.6846 - val_loss: 0.6979 - val_acc: 0.9087\n",
      "Epoch 28/100\n",
      "46920/46920 [==============================] - 93s 2ms/step - loss: 1.3071 - acc: 0.6828 - val_loss: 0.5629 - val_acc: 0.9323\n",
      "Epoch 29/100\n",
      "46920/46920 [==============================] - 92s 2ms/step - loss: 1.3093 - acc: 0.6844 - val_loss: 0.5836 - val_acc: 0.9280\n",
      "Epoch 30/100\n",
      "46920/46920 [==============================] - 92s 2ms/step - loss: 1.2951 - acc: 0.6889 - val_loss: 0.6366 - val_acc: 0.9171\n",
      "Epoch 31/100\n",
      "46920/46920 [==============================] - 92s 2ms/step - loss: 1.2935 - acc: 0.6879 - val_loss: 0.5990 - val_acc: 0.9209\n",
      "Epoch 32/100\n",
      "46920/46920 [==============================] - 93s 2ms/step - loss: 1.2976 - acc: 0.6857 - val_loss: 0.5806 - val_acc: 0.9347\n",
      "Epoch 33/100\n",
      "46920/46920 [==============================] - 93s 2ms/step - loss: 1.2904 - acc: 0.6887 - val_loss: 0.6447 - val_acc: 0.9219\n",
      "Epoch 34/100\n",
      "46920/46920 [==============================] - 93s 2ms/step - loss: 1.2821 - acc: 0.6948 - val_loss: 0.5657 - val_acc: 0.9379\n",
      "Epoch 35/100\n",
      "46920/46920 [==============================] - 92s 2ms/step - loss: 1.2806 - acc: 0.6923 - val_loss: 0.6109 - val_acc: 0.9224\n",
      "Epoch 36/100\n",
      "46920/46920 [==============================] - 92s 2ms/step - loss: 1.2905 - acc: 0.6929 - val_loss: 0.8087 - val_acc: 0.8782\n",
      "Epoch 37/100\n",
      "46920/46920 [==============================] - 92s 2ms/step - loss: 1.2806 - acc: 0.6955 - val_loss: 0.6204 - val_acc: 0.9262\n",
      "Epoch 38/100\n",
      "46920/46920 [==============================] - 93s 2ms/step - loss: 1.2779 - acc: 0.6953 - val_loss: 0.7083 - val_acc: 0.9073\n",
      "Epoch 39/100\n",
      "46920/46920 [==============================] - 93s 2ms/step - loss: 1.2921 - acc: 0.6953 - val_loss: 0.7020 - val_acc: 0.8941\n",
      "Epoch 40/100\n",
      "46920/46920 [==============================] - 92s 2ms/step - loss: 1.2787 - acc: 0.6954 - val_loss: 0.6812 - val_acc: 0.9148\n",
      "Epoch 41/100\n",
      "46920/46920 [==============================] - 92s 2ms/step - loss: 1.2842 - acc: 0.6970 - val_loss: 0.7027 - val_acc: 0.9113\n"
     ]
    },
    {
     "name": "stdout",
     "output_type": "stream",
     "text": [
      "Epoch 42/100\n",
      "46920/46920 [==============================] - 90s 2ms/step - loss: 1.2845 - acc: 0.6975 - val_loss: 0.6482 - val_acc: 0.9135\n",
      "Epoch 43/100\n",
      "46920/46920 [==============================] - 90s 2ms/step - loss: 1.2734 - acc: 0.7023 - val_loss: 1.1275 - val_acc: 0.7708\n",
      "Epoch 44/100\n",
      "46920/46920 [==============================] - 90s 2ms/step - loss: 1.2768 - acc: 0.6987 - val_loss: 1.0711 - val_acc: 0.8037\n",
      "Epoch 45/100\n",
      "46920/46920 [==============================] - 90s 2ms/step - loss: 1.2793 - acc: 0.7013 - val_loss: 0.7478 - val_acc: 0.8931\n",
      "Epoch 46/100\n",
      "46920/46920 [==============================] - 90s 2ms/step - loss: 1.2752 - acc: 0.7020 - val_loss: 0.8193 - val_acc: 0.8747\n",
      "Epoch 47/100\n",
      "46920/46920 [==============================] - 90s 2ms/step - loss: 1.2850 - acc: 0.7000 - val_loss: 0.7117 - val_acc: 0.9061\n",
      "Epoch 48/100\n",
      "46920/46920 [==============================] - 90s 2ms/step - loss: 1.2892 - acc: 0.7022 - val_loss: 0.7362 - val_acc: 0.8880\n",
      "Epoch 49/100\n",
      "46920/46920 [==============================] - 90s 2ms/step - loss: 1.2862 - acc: 0.7031 - val_loss: 0.6087 - val_acc: 0.9238\n",
      "Epoch 50/100\n",
      "46920/46920 [==============================] - 90s 2ms/step - loss: 1.2900 - acc: 0.7022 - val_loss: 0.6180 - val_acc: 0.9288\n",
      "Epoch 51/100\n",
      "46920/46920 [==============================] - 90s 2ms/step - loss: 1.2792 - acc: 0.7065 - val_loss: 0.5932 - val_acc: 0.9334\n",
      "Epoch 52/100\n",
      "46920/46920 [==============================] - 90s 2ms/step - loss: 1.2945 - acc: 0.7012 - val_loss: 0.6827 - val_acc: 0.9091\n",
      "Epoch 53/100\n",
      "46920/46920 [==============================] - 90s 2ms/step - loss: 1.2871 - acc: 0.7049 - val_loss: 0.8145 - val_acc: 0.8754\n",
      "Epoch 54/100\n",
      "46920/46920 [==============================] - 89s 2ms/step - loss: 1.2835 - acc: 0.7079 - val_loss: 0.6839 - val_acc: 0.9066\n",
      "Epoch 55/100\n",
      "46920/46920 [==============================] - 90s 2ms/step - loss: 1.2894 - acc: 0.7051 - val_loss: 0.6477 - val_acc: 0.9213\n",
      "Epoch 56/100\n",
      "46920/46920 [==============================] - 90s 2ms/step - loss: 1.2832 - acc: 0.7093 - val_loss: 0.8439 - val_acc: 0.8581\n",
      "Epoch 57/100\n",
      "46920/46920 [==============================] - 90s 2ms/step - loss: 1.2915 - acc: 0.7040 - val_loss: 0.6911 - val_acc: 0.8998\n",
      "Epoch 58/100\n",
      "46920/46920 [==============================] - 90s 2ms/step - loss: 1.2794 - acc: 0.7101 - val_loss: 0.8588 - val_acc: 0.8593\n",
      "Epoch 59/100\n",
      "46920/46920 [==============================] - 90s 2ms/step - loss: 1.2872 - acc: 0.7073 - val_loss: 0.6600 - val_acc: 0.9140\n",
      "Epoch 60/100\n",
      "46920/46920 [==============================] - 90s 2ms/step - loss: 1.2811 - acc: 0.7127 - val_loss: 0.6693 - val_acc: 0.9207\n",
      "Epoch 61/100\n",
      "46920/46920 [==============================] - 89s 2ms/step - loss: 1.2812 - acc: 0.7101 - val_loss: 0.6864 - val_acc: 0.9116\n",
      "Epoch 62/100\n",
      "46920/46920 [==============================] - 90s 2ms/step - loss: 1.2943 - acc: 0.7054 - val_loss: 0.7336 - val_acc: 0.8984\n",
      "Epoch 63/100\n",
      "46920/46920 [==============================] - 89s 2ms/step - loss: 1.3099 - acc: 0.7083 - val_loss: 0.7536 - val_acc: 0.8957\n",
      "Epoch 64/100\n",
      "46920/46920 [==============================] - 90s 2ms/step - loss: 1.3042 - acc: 0.7091 - val_loss: 0.7476 - val_acc: 0.8883\n",
      "Epoch 65/100\n",
      "46920/46920 [==============================] - 90s 2ms/step - loss: 1.2959 - acc: 0.7120 - val_loss: 0.6256 - val_acc: 0.9305\n",
      "Epoch 66/100\n",
      "46920/46920 [==============================] - 89s 2ms/step - loss: 1.3090 - acc: 0.7054 - val_loss: 0.7882 - val_acc: 0.8820\n",
      "Epoch 67/100\n",
      "46920/46920 [==============================] - 89s 2ms/step - loss: 1.2990 - acc: 0.7097 - val_loss: 0.7783 - val_acc: 0.8884\n",
      "Epoch 68/100\n",
      "46920/46920 [==============================] - 90s 2ms/step - loss: 1.3218 - acc: 0.7072 - val_loss: 1.0562 - val_acc: 0.8112\n",
      "Epoch 69/100\n",
      "46920/46920 [==============================] - 90s 2ms/step - loss: 1.3116 - acc: 0.7089 - val_loss: 0.8026 - val_acc: 0.8867\n",
      "Epoch 70/100\n",
      "46920/46920 [==============================] - 89s 2ms/step - loss: 1.3179 - acc: 0.7072 - val_loss: 0.8255 - val_acc: 0.8783\n",
      "Epoch 71/100\n",
      "46920/46920 [==============================] - 90s 2ms/step - loss: 1.3109 - acc: 0.7097 - val_loss: 0.6637 - val_acc: 0.9238\n",
      "Epoch 72/100\n",
      "46920/46920 [==============================] - 89s 2ms/step - loss: 1.3254 - acc: 0.7088 - val_loss: 0.8313 - val_acc: 0.8767\n",
      "Epoch 73/100\n",
      "46920/46920 [==============================] - 90s 2ms/step - loss: 1.3103 - acc: 0.7116 - val_loss: 0.7052 - val_acc: 0.9137\n",
      "Epoch 74/100\n",
      "46920/46920 [==============================] - 89s 2ms/step - loss: 1.3244 - acc: 0.7092 - val_loss: 1.0112 - val_acc: 0.8241\n",
      "Epoch 75/100\n",
      "46920/46920 [==============================] - 90s 2ms/step - loss: 1.3322 - acc: 0.7082 - val_loss: 0.9263 - val_acc: 0.8399\n",
      "Epoch 76/100\n",
      "46920/46920 [==============================] - 90s 2ms/step - loss: 1.3346 - acc: 0.7083 - val_loss: 0.8002 - val_acc: 0.8881\n",
      "Epoch 77/100\n",
      "46920/46920 [==============================] - 90s 2ms/step - loss: 1.3318 - acc: 0.7099 - val_loss: 0.9135 - val_acc: 0.8582\n",
      "Epoch 78/100\n",
      "46920/46920 [==============================] - 89s 2ms/step - loss: 1.3372 - acc: 0.7068 - val_loss: 0.8279 - val_acc: 0.8781\n",
      "Epoch 79/100\n",
      "46920/46920 [==============================] - 90s 2ms/step - loss: 1.3235 - acc: 0.7121 - val_loss: 0.7598 - val_acc: 0.8942\n",
      "Epoch 80/100\n",
      "46920/46920 [==============================] - 89s 2ms/step - loss: 1.3128 - acc: 0.7150 - val_loss: 0.8026 - val_acc: 0.8840\n",
      "Epoch 81/100\n",
      "46920/46920 [==============================] - 89s 2ms/step - loss: 1.3173 - acc: 0.7119 - val_loss: 0.8046 - val_acc: 0.8881\n",
      "Epoch 82/100\n",
      "46920/46920 [==============================] - 90s 2ms/step - loss: 1.3240 - acc: 0.7097 - val_loss: 0.9116 - val_acc: 0.8538\n",
      "Epoch 83/100\n",
      "46920/46920 [==============================] - 89s 2ms/step - loss: 1.3324 - acc: 0.7103 - val_loss: 0.7349 - val_acc: 0.9083\n",
      "Epoch 84/100\n",
      "46920/46920 [==============================] - 89s 2ms/step - loss: 1.3397 - acc: 0.7080 - val_loss: 0.7648 - val_acc: 0.8883\n",
      "Epoch 85/100\n",
      "46920/46920 [==============================] - 89s 2ms/step - loss: 1.3398 - acc: 0.7099 - val_loss: 0.8551 - val_acc: 0.8723\n",
      "Epoch 86/100\n",
      "46920/46920 [==============================] - 90s 2ms/step - loss: 1.3383 - acc: 0.7119 - val_loss: 0.9811 - val_acc: 0.8394\n",
      "Epoch 87/100\n",
      "46920/46920 [==============================] - 89s 2ms/step - loss: 1.3366 - acc: 0.7128 - val_loss: 0.8133 - val_acc: 0.8791\n",
      "Epoch 88/100\n",
      "46920/46920 [==============================] - 89s 2ms/step - loss: 1.3458 - acc: 0.7069 - val_loss: 0.8105 - val_acc: 0.8822\n",
      "Epoch 89/100\n",
      "46920/46920 [==============================] - 89s 2ms/step - loss: 1.3410 - acc: 0.7094 - val_loss: 0.8825 - val_acc: 0.8637\n",
      "Epoch 90/100\n",
      "46920/46920 [==============================] - 89s 2ms/step - loss: 1.3421 - acc: 0.7111 - val_loss: 0.9232 - val_acc: 0.8514\n",
      "Epoch 91/100\n",
      "46920/46920 [==============================] - 89s 2ms/step - loss: 1.3478 - acc: 0.7101 - val_loss: 0.7978 - val_acc: 0.8811\n",
      "Epoch 92/100\n",
      "46920/46920 [==============================] - 90s 2ms/step - loss: 1.3454 - acc: 0.7092 - val_loss: 0.7461 - val_acc: 0.9001\n",
      "Epoch 93/100\n",
      "46920/46920 [==============================] - 90s 2ms/step - loss: 1.3451 - acc: 0.7094 - val_loss: 0.7619 - val_acc: 0.8997\n",
      "Epoch 94/100\n",
      "46920/46920 [==============================] - 90s 2ms/step - loss: 1.3501 - acc: 0.7126 - val_loss: 0.9591 - val_acc: 0.8318\n",
      "Epoch 95/100\n",
      "46920/46920 [==============================] - 90s 2ms/step - loss: 1.3603 - acc: 0.7100 - val_loss: 0.7341 - val_acc: 0.9084\n",
      "Epoch 96/100\n",
      "46920/46920 [==============================] - 90s 2ms/step - loss: 1.3522 - acc: 0.7095 - val_loss: 0.7157 - val_acc: 0.9163\n",
      "Epoch 97/100\n",
      "46920/46920 [==============================] - 90s 2ms/step - loss: 1.3385 - acc: 0.7116 - val_loss: 0.6405 - val_acc: 0.9330\n",
      "Epoch 98/100\n",
      "46920/46920 [==============================] - 89s 2ms/step - loss: 1.3529 - acc: 0.7085 - val_loss: 0.9518 - val_acc: 0.8408\n",
      "Epoch 99/100\n",
      "46920/46920 [==============================] - 90s 2ms/step - loss: 1.3564 - acc: 0.7088 - val_loss: 1.0794 - val_acc: 0.8118\n",
      "Epoch 100/100\n",
      "46920/46920 [==============================] - 90s 2ms/step - loss: 1.3637 - acc: 0.7075 - val_loss: 1.3024 - val_acc: 0.7266\n"
     ]
    }
   ],
   "source": [
    "cnn = get_model()\n",
    "history = cnn.fit(X, Y, epochs=100, batch_size=50, verbose = 1, validation_data=(validate_x, validate_y))"
   ]
  },
  {
   "cell_type": "code",
   "execution_count": 19,
   "metadata": {
    "scrolled": true
   },
   "outputs": [
    {
     "data": {
      "image/png": "[encoded data removed]",
      "text/plain": [
       "<Figure size 432x288 with 1 Axes>"
      ]
     },
     "metadata": {},
     "output_type": "display_data"
    },
    {
     "data": {
      "image/png": "[encoded data removed]",
      "text/plain": [
       "<Figure size 432x288 with 1 Axes>"
      ]
     },
     "metadata": {},
     "output_type": "display_data"
    }
   ],
   "source": [
    "# summarize history for accuracy\n",
    "plt.plot(history.history['acc'])\n",
    "plt.plot(history.history['val_acc'])\n",
    "plt.title('model accuracy')\n",
    "plt.ylabel('accuracy')\n",
    "plt.xlabel('epoch')\n",
    "plt.legend(['train', 'test'], loc='upper left')\n",
    "plt.savefig(\"./graphs/accuracy/epoch20.jpg\")\n",
    "plt.show()\n",
    "# summarize history for loss\n",
    "plt.plot(history.history['loss'])\n",
    "plt.plot(history.history['val_loss'])\n",
    "plt.title('model loss')\n",
    "plt.ylabel('loss')\n",
    "plt.xlabel('epoch')\n",
    "plt.legend(['train', 'test'], loc='upper left')\n",
    "plt.savefig(\"./graphs/loss/epoch20.jpg\")\n",
    "plt.show()"
   ]
  },
  {
   "cell_type": "code",
   "execution_count": 25,
   "metadata": {},
   "outputs": [],
   "source": [
    "def predict(filename, model):\n",
    "    path = os.path.join(TEST_DIR, filename)\n",
    "#     print(path)\n",
    "    img = cv2.imread(path,cv2.IMREAD_GRAYSCALE)\n",
    "    img = cv2.resize(img, (IMG_SIZE,IMG_SIZE))\n",
    "    img = np.array(img)\n",
    "    data = img.reshape(-1, IMG_SIZE,IMG_SIZE,1)\n",
    "    res = get_labels()[0][np.argmax(model.predict(data))]\n",
    "    return res"
   ]
  },
  {
   "cell_type": "code",
   "execution_count": 32,
   "metadata": {
    "scrolled": true
   },
   "outputs": [
    {
     "name": "stdout",
     "output_type": "stream",
     "text": [
      "0.9786231884057971\n"
     ]
    }
   ],
   "source": [
    "ctr_true = 0\n",
    "ctr_total = 0\n",
    "labels = os.listdir(TEST_DIR)\n",
    "# labels\n",
    "for label in labels:\n",
    "    images = os.listdir(TEST_DIR + \"/\" + label)\n",
    "#     print(images)\n",
    "    for img in images:\n",
    "        out = predict(label + \"/\" + img, m)\n",
    "        if out == label:\n",
    "            ctr_true += 1\n",
    "        ctr_total += 1\n",
    "    \n",
    "print(ctr_true/ctr_total)"
   ]
  },
  {
   "cell_type": "code",
   "execution_count": 27,
   "metadata": {},
   "outputs": [],
   "source": [
    "m = load_model(\"model/97.86_accuracy.h5\")"
   ]
  },
  {
   "cell_type": "code",
   "execution_count": 28,
   "metadata": {},
   "outputs": [
    {
     "name": "stdout",
     "output_type": "stream",
     "text": [
      "character_1_ka\n"
     ]
    }
   ],
   "source": [
    "print(predict('character_1_ka/46226.png', cnn))"
   ]
  },
  {
   "cell_type": "code",
   "execution_count": 13,
   "metadata": {},
   "outputs": [],
   "source": [
    "cnn.save(\"model/97.86_accuracy.h5\")"
   ]
  },
  {
   "cell_type": "code",
   "execution_count": null,
   "metadata": {},
   "outputs": [],
   "source": []
  }
 ],
 "metadata": {
  "kernelspec": {
   "display_name": "Python 3",
   "language": "python",
   "name": "python3"
  },
  "language_info": {
   "codemirror_mode": {
    "name": "ipython",
    "version": 3
   },
   "file_extension": ".py",
   "mimetype": "text/x-python",
   "name": "python",
   "nbconvert_exporter": "python",
   "pygments_lexer": "ipython3",
   "version": "3.6.6"
  }
 },
 "nbformat": 4,
 "nbformat_minor": 2
}
